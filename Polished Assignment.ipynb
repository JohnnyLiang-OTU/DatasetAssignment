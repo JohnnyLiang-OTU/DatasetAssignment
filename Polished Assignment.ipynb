{
 "cells": [
  {
   "cell_type": "markdown",
   "id": "a6289409",
   "metadata": {},
   "source": [
    "# _COUNTRIES OF THE WORLD_\n",
    "\n",
    "Jupyter Notebook by : Johnny Liang (100832977)"
   ]
  },
  {
   "cell_type": "markdown",
   "id": "03d7b357",
   "metadata": {},
   "source": [
    "Did you know that the population of China and India combined make up around 33% of the world's population? How is that even possible when we have more than 200 countries in this world? In this Jupyter we'll explore the different countries of this world and see relationships within different parameters. To do this, we'll use a dataset from Kaggle titled 'Countries of the World' by Fernando Lasso. \n",
    "The reason why I chose Countries of the World is because I saw many interviews in East Asia(China, Korea, Japan, and Hong Kong) and Europa(Sweden, Spain) streets in which people from that said country would list reasons on why are the birthrates from their country dropping. And, even though this dataset doesn't work with data over the years, I wanted to see if this question would still be answered by the parameters from this data set. Besides that, Some other questions I'll explore are:\n",
    "- Does richer countries (by GDP per capita) have lower birthrate?\n",
    "* Does GDP per capita increases as the service, industry, or agriculture index gets higher?\n",
    "- Which continents have the lower birthrates? Can we confirm if the higher the GDP per capita, the lower the birthrate?"
   ]
  },
  {
   "cell_type": "code",
   "execution_count": 1,
   "id": "b404ed99",
   "metadata": {},
   "outputs": [],
   "source": [
    "import pandas as pd\n",
    "import numpy as np\n",
    "import matplotlib.pyplot as plt\n",
    "import seaborn as sns"
   ]
  },
  {
   "cell_type": "markdown",
   "id": "69198c18",
   "metadata": {},
   "source": [
    "### Data Collection"
   ]
  },
  {
   "cell_type": "code",
   "execution_count": 2,
   "id": "cc750de8",
   "metadata": {},
   "outputs": [
    {
     "data": {
      "text/html": [
       "<div>\n",
       "<style scoped>\n",
       "    .dataframe tbody tr th:only-of-type {\n",
       "        vertical-align: middle;\n",
       "    }\n",
       "\n",
       "    .dataframe tbody tr th {\n",
       "        vertical-align: top;\n",
       "    }\n",
       "\n",
       "    .dataframe thead th {\n",
       "        text-align: right;\n",
       "    }\n",
       "</style>\n",
       "<table border=\"1\" class=\"dataframe\">\n",
       "  <thead>\n",
       "    <tr style=\"text-align: right;\">\n",
       "      <th></th>\n",
       "      <th>Country</th>\n",
       "      <th>Region</th>\n",
       "      <th>Population</th>\n",
       "      <th>Area (sq. mi.)</th>\n",
       "      <th>Pop. Density (per sq. mi.)</th>\n",
       "      <th>Coastline (coast/area ratio)</th>\n",
       "      <th>Net migration</th>\n",
       "      <th>Infant mortality (per 1000 births)</th>\n",
       "      <th>GDP ($ per capita)</th>\n",
       "      <th>Literacy (%)</th>\n",
       "      <th>Phones (per 1000)</th>\n",
       "      <th>Arable (%)</th>\n",
       "      <th>Crops (%)</th>\n",
       "      <th>Other (%)</th>\n",
       "      <th>Climate</th>\n",
       "      <th>Birthrate</th>\n",
       "      <th>Deathrate</th>\n",
       "      <th>Agriculture</th>\n",
       "      <th>Industry</th>\n",
       "      <th>Service</th>\n",
       "    </tr>\n",
       "  </thead>\n",
       "  <tbody>\n",
       "    <tr>\n",
       "      <th>0</th>\n",
       "      <td>Afghanistan</td>\n",
       "      <td>ASIA (EX. NEAR EAST)</td>\n",
       "      <td>31056997</td>\n",
       "      <td>647500</td>\n",
       "      <td>48,0</td>\n",
       "      <td>0,00</td>\n",
       "      <td>23,06</td>\n",
       "      <td>163,07</td>\n",
       "      <td>700.0</td>\n",
       "      <td>36,0</td>\n",
       "      <td>3,2</td>\n",
       "      <td>12,13</td>\n",
       "      <td>0,22</td>\n",
       "      <td>87,65</td>\n",
       "      <td>1</td>\n",
       "      <td>46,6</td>\n",
       "      <td>20,34</td>\n",
       "      <td>0,38</td>\n",
       "      <td>0,24</td>\n",
       "      <td>0,38</td>\n",
       "    </tr>\n",
       "    <tr>\n",
       "      <th>1</th>\n",
       "      <td>Albania</td>\n",
       "      <td>EASTERN EUROPE</td>\n",
       "      <td>3581655</td>\n",
       "      <td>28748</td>\n",
       "      <td>124,6</td>\n",
       "      <td>1,26</td>\n",
       "      <td>-4,93</td>\n",
       "      <td>21,52</td>\n",
       "      <td>4500.0</td>\n",
       "      <td>86,5</td>\n",
       "      <td>71,2</td>\n",
       "      <td>21,09</td>\n",
       "      <td>4,42</td>\n",
       "      <td>74,49</td>\n",
       "      <td>3</td>\n",
       "      <td>15,11</td>\n",
       "      <td>5,22</td>\n",
       "      <td>0,232</td>\n",
       "      <td>0,188</td>\n",
       "      <td>0,579</td>\n",
       "    </tr>\n",
       "    <tr>\n",
       "      <th>2</th>\n",
       "      <td>Algeria</td>\n",
       "      <td>NORTHERN AFRICA</td>\n",
       "      <td>32930091</td>\n",
       "      <td>2381740</td>\n",
       "      <td>13,8</td>\n",
       "      <td>0,04</td>\n",
       "      <td>-0,39</td>\n",
       "      <td>31</td>\n",
       "      <td>6000.0</td>\n",
       "      <td>70,0</td>\n",
       "      <td>78,1</td>\n",
       "      <td>3,22</td>\n",
       "      <td>0,25</td>\n",
       "      <td>96,53</td>\n",
       "      <td>1</td>\n",
       "      <td>17,14</td>\n",
       "      <td>4,61</td>\n",
       "      <td>0,101</td>\n",
       "      <td>0,6</td>\n",
       "      <td>0,298</td>\n",
       "    </tr>\n",
       "    <tr>\n",
       "      <th>3</th>\n",
       "      <td>American Samoa</td>\n",
       "      <td>OCEANIA</td>\n",
       "      <td>57794</td>\n",
       "      <td>199</td>\n",
       "      <td>290,4</td>\n",
       "      <td>58,29</td>\n",
       "      <td>-20,71</td>\n",
       "      <td>9,27</td>\n",
       "      <td>8000.0</td>\n",
       "      <td>97,0</td>\n",
       "      <td>259,5</td>\n",
       "      <td>10</td>\n",
       "      <td>15</td>\n",
       "      <td>75</td>\n",
       "      <td>2</td>\n",
       "      <td>22,46</td>\n",
       "      <td>3,27</td>\n",
       "      <td>NaN</td>\n",
       "      <td>NaN</td>\n",
       "      <td>NaN</td>\n",
       "    </tr>\n",
       "    <tr>\n",
       "      <th>4</th>\n",
       "      <td>Andorra</td>\n",
       "      <td>WESTERN EUROPE</td>\n",
       "      <td>71201</td>\n",
       "      <td>468</td>\n",
       "      <td>152,1</td>\n",
       "      <td>0,00</td>\n",
       "      <td>6,6</td>\n",
       "      <td>4,05</td>\n",
       "      <td>19000.0</td>\n",
       "      <td>100,0</td>\n",
       "      <td>497,2</td>\n",
       "      <td>2,22</td>\n",
       "      <td>0</td>\n",
       "      <td>97,78</td>\n",
       "      <td>3</td>\n",
       "      <td>8,71</td>\n",
       "      <td>6,25</td>\n",
       "      <td>NaN</td>\n",
       "      <td>NaN</td>\n",
       "      <td>NaN</td>\n",
       "    </tr>\n",
       "    <tr>\n",
       "      <th>...</th>\n",
       "      <td>...</td>\n",
       "      <td>...</td>\n",
       "      <td>...</td>\n",
       "      <td>...</td>\n",
       "      <td>...</td>\n",
       "      <td>...</td>\n",
       "      <td>...</td>\n",
       "      <td>...</td>\n",
       "      <td>...</td>\n",
       "      <td>...</td>\n",
       "      <td>...</td>\n",
       "      <td>...</td>\n",
       "      <td>...</td>\n",
       "      <td>...</td>\n",
       "      <td>...</td>\n",
       "      <td>...</td>\n",
       "      <td>...</td>\n",
       "      <td>...</td>\n",
       "      <td>...</td>\n",
       "      <td>...</td>\n",
       "    </tr>\n",
       "    <tr>\n",
       "      <th>222</th>\n",
       "      <td>West Bank</td>\n",
       "      <td>NEAR EAST</td>\n",
       "      <td>2460492</td>\n",
       "      <td>5860</td>\n",
       "      <td>419,9</td>\n",
       "      <td>0,00</td>\n",
       "      <td>2,98</td>\n",
       "      <td>19,62</td>\n",
       "      <td>800.0</td>\n",
       "      <td>NaN</td>\n",
       "      <td>145,2</td>\n",
       "      <td>16,9</td>\n",
       "      <td>18,97</td>\n",
       "      <td>64,13</td>\n",
       "      <td>3</td>\n",
       "      <td>31,67</td>\n",
       "      <td>3,92</td>\n",
       "      <td>0,09</td>\n",
       "      <td>0,28</td>\n",
       "      <td>0,63</td>\n",
       "    </tr>\n",
       "    <tr>\n",
       "      <th>223</th>\n",
       "      <td>Western Sahara</td>\n",
       "      <td>NORTHERN AFRICA</td>\n",
       "      <td>273008</td>\n",
       "      <td>266000</td>\n",
       "      <td>1,0</td>\n",
       "      <td>0,42</td>\n",
       "      <td>NaN</td>\n",
       "      <td>NaN</td>\n",
       "      <td>NaN</td>\n",
       "      <td>NaN</td>\n",
       "      <td>NaN</td>\n",
       "      <td>0,02</td>\n",
       "      <td>0</td>\n",
       "      <td>99,98</td>\n",
       "      <td>1</td>\n",
       "      <td>NaN</td>\n",
       "      <td>NaN</td>\n",
       "      <td>NaN</td>\n",
       "      <td>NaN</td>\n",
       "      <td>0,4</td>\n",
       "    </tr>\n",
       "    <tr>\n",
       "      <th>224</th>\n",
       "      <td>Yemen</td>\n",
       "      <td>NEAR EAST</td>\n",
       "      <td>21456188</td>\n",
       "      <td>527970</td>\n",
       "      <td>40,6</td>\n",
       "      <td>0,36</td>\n",
       "      <td>0</td>\n",
       "      <td>61,5</td>\n",
       "      <td>800.0</td>\n",
       "      <td>50,2</td>\n",
       "      <td>37,2</td>\n",
       "      <td>2,78</td>\n",
       "      <td>0,24</td>\n",
       "      <td>96,98</td>\n",
       "      <td>1</td>\n",
       "      <td>42,89</td>\n",
       "      <td>8,3</td>\n",
       "      <td>0,135</td>\n",
       "      <td>0,472</td>\n",
       "      <td>0,393</td>\n",
       "    </tr>\n",
       "    <tr>\n",
       "      <th>225</th>\n",
       "      <td>Zambia</td>\n",
       "      <td>SUB-SAHARAN AFRICA</td>\n",
       "      <td>11502010</td>\n",
       "      <td>752614</td>\n",
       "      <td>15,3</td>\n",
       "      <td>0,00</td>\n",
       "      <td>0</td>\n",
       "      <td>88,29</td>\n",
       "      <td>800.0</td>\n",
       "      <td>80,6</td>\n",
       "      <td>8,2</td>\n",
       "      <td>7,08</td>\n",
       "      <td>0,03</td>\n",
       "      <td>92,9</td>\n",
       "      <td>2</td>\n",
       "      <td>41</td>\n",
       "      <td>19,93</td>\n",
       "      <td>0,22</td>\n",
       "      <td>0,29</td>\n",
       "      <td>0,489</td>\n",
       "    </tr>\n",
       "    <tr>\n",
       "      <th>226</th>\n",
       "      <td>Zimbabwe</td>\n",
       "      <td>SUB-SAHARAN AFRICA</td>\n",
       "      <td>12236805</td>\n",
       "      <td>390580</td>\n",
       "      <td>31,3</td>\n",
       "      <td>0,00</td>\n",
       "      <td>0</td>\n",
       "      <td>67,69</td>\n",
       "      <td>1900.0</td>\n",
       "      <td>90,7</td>\n",
       "      <td>26,8</td>\n",
       "      <td>8,32</td>\n",
       "      <td>0,34</td>\n",
       "      <td>91,34</td>\n",
       "      <td>2</td>\n",
       "      <td>28,01</td>\n",
       "      <td>21,84</td>\n",
       "      <td>0,179</td>\n",
       "      <td>0,243</td>\n",
       "      <td>0,579</td>\n",
       "    </tr>\n",
       "  </tbody>\n",
       "</table>\n",
       "<p>227 rows × 20 columns</p>\n",
       "</div>"
      ],
      "text/plain": [
       "             Country                               Region  Population  \\\n",
       "0       Afghanistan         ASIA (EX. NEAR EAST)             31056997   \n",
       "1           Albania   EASTERN EUROPE                          3581655   \n",
       "2           Algeria   NORTHERN AFRICA                        32930091   \n",
       "3    American Samoa   OCEANIA                                   57794   \n",
       "4           Andorra   WESTERN EUROPE                            71201   \n",
       "..               ...                                  ...         ...   \n",
       "222       West Bank   NEAR EAST                               2460492   \n",
       "223  Western Sahara   NORTHERN AFRICA                          273008   \n",
       "224           Yemen   NEAR EAST                              21456188   \n",
       "225          Zambia   SUB-SAHARAN AFRICA                     11502010   \n",
       "226        Zimbabwe   SUB-SAHARAN AFRICA                     12236805   \n",
       "\n",
       "     Area (sq. mi.) Pop. Density (per sq. mi.) Coastline (coast/area ratio)  \\\n",
       "0            647500                       48,0                         0,00   \n",
       "1             28748                      124,6                         1,26   \n",
       "2           2381740                       13,8                         0,04   \n",
       "3               199                      290,4                        58,29   \n",
       "4               468                      152,1                         0,00   \n",
       "..              ...                        ...                          ...   \n",
       "222            5860                      419,9                         0,00   \n",
       "223          266000                        1,0                         0,42   \n",
       "224          527970                       40,6                         0,36   \n",
       "225          752614                       15,3                         0,00   \n",
       "226          390580                       31,3                         0,00   \n",
       "\n",
       "    Net migration Infant mortality (per 1000 births)  GDP ($ per capita)  \\\n",
       "0           23,06                             163,07               700.0   \n",
       "1           -4,93                              21,52              4500.0   \n",
       "2           -0,39                                 31              6000.0   \n",
       "3          -20,71                               9,27              8000.0   \n",
       "4             6,6                               4,05             19000.0   \n",
       "..            ...                                ...                 ...   \n",
       "222          2,98                              19,62               800.0   \n",
       "223           NaN                                NaN                 NaN   \n",
       "224             0                               61,5               800.0   \n",
       "225             0                              88,29               800.0   \n",
       "226             0                              67,69              1900.0   \n",
       "\n",
       "    Literacy (%) Phones (per 1000) Arable (%) Crops (%) Other (%) Climate  \\\n",
       "0           36,0               3,2      12,13      0,22     87,65       1   \n",
       "1           86,5              71,2      21,09      4,42     74,49       3   \n",
       "2           70,0              78,1       3,22      0,25     96,53       1   \n",
       "3           97,0             259,5         10        15        75       2   \n",
       "4          100,0             497,2       2,22         0     97,78       3   \n",
       "..           ...               ...        ...       ...       ...     ...   \n",
       "222          NaN             145,2       16,9     18,97     64,13       3   \n",
       "223          NaN               NaN       0,02         0     99,98       1   \n",
       "224         50,2              37,2       2,78      0,24     96,98       1   \n",
       "225         80,6               8,2       7,08      0,03      92,9       2   \n",
       "226         90,7              26,8       8,32      0,34     91,34       2   \n",
       "\n",
       "    Birthrate Deathrate Agriculture Industry Service  \n",
       "0        46,6     20,34        0,38     0,24    0,38  \n",
       "1       15,11      5,22       0,232    0,188   0,579  \n",
       "2       17,14      4,61       0,101      0,6   0,298  \n",
       "3       22,46      3,27         NaN      NaN     NaN  \n",
       "4        8,71      6,25         NaN      NaN     NaN  \n",
       "..        ...       ...         ...      ...     ...  \n",
       "222     31,67      3,92        0,09     0,28    0,63  \n",
       "223       NaN       NaN         NaN      NaN     0,4  \n",
       "224     42,89       8,3       0,135    0,472   0,393  \n",
       "225        41     19,93        0,22     0,29   0,489  \n",
       "226     28,01     21,84       0,179    0,243   0,579  \n",
       "\n",
       "[227 rows x 20 columns]"
      ]
     },
     "execution_count": 2,
     "metadata": {},
     "output_type": "execute_result"
    }
   ],
   "source": [
    "url = \"https://github.com/JohnnyLiang-OTU/DatasetAssignment/blob/main/countries%20of%20the%20world.csv?raw=true\"\n",
    "dataset = pd.read_csv(url)\n",
    "dataset"
   ]
  },
  {
   "cell_type": "markdown",
   "id": "0f80beac",
   "metadata": {},
   "source": [
    "## Data Cleaning\n",
    "\n",
    "Here I'm dropping NAN values, sorting the values by population, and reseting the rankings of the countries accordingly after eliminating rows which contained NAN values."
   ]
  },
  {
   "cell_type": "code",
   "execution_count": 3,
   "id": "c98d5909",
   "metadata": {},
   "outputs": [],
   "source": [
    "dataset = dataset.dropna()\n",
    "dataset.sort_values(by=['Population'])\n",
    "dataset.reset_index(inplace=True, drop=True)"
   ]
  },
  {
   "cell_type": "markdown",
   "id": "ad79e60a",
   "metadata": {},
   "source": [
    "# Data Analyses"
   ]
  },
  {
   "cell_type": "markdown",
   "id": "537fa3c5",
   "metadata": {},
   "source": [
    "### Does richer countries (by GDP per capita) have lower birthrate?"
   ]
  },
  {
   "cell_type": "code",
   "execution_count": 4,
   "id": "55937fad",
   "metadata": {},
   "outputs": [],
   "source": [
    "BIRTHgdp = dataset.loc[:, ['Country', 'Birthrate', 'GDP ($ per capita)']]\n",
    "BIRTHgdp.columns = ['Country', 'Birthrate', 'GDP']\n",
    "BIRTHgdp['Birthrate'] = BIRTHgdp['Birthrate'].str.replace(',','.').astype(float)"
   ]
  },
  {
   "cell_type": "markdown",
   "id": "5e9b086b",
   "metadata": {},
   "source": [
    "I declare a dataset with the values of Birthrate, and GDP per capita.\n",
    "And, since the Birthrate was a string value because of the comma, I replaced the comma with a point and changed it to a float type."
   ]
  },
  {
   "cell_type": "code",
   "execution_count": 5,
   "id": "fc9fa760",
   "metadata": {},
   "outputs": [
    {
     "data": {
      "image/png": "[encoded data removed]",
      "text/plain": [
       "<Figure size 360x360 with 1 Axes>"
      ]
     },
     "metadata": {
      "needs_background": "light"
     },
     "output_type": "display_data"
    }
   ],
   "source": [
    "BIRTHgdp = BIRTHgdp.sort_values(by='GDP')\n",
    "BIRTHgdp = sns.relplot(data=BIRTHgdp, x=BIRTHgdp['GDP'], y=BIRTHgdp['Birthrate'])"
   ]
  },
  {
   "cell_type": "markdown",
   "id": "30456327",
   "metadata": {},
   "source": [
    "The plot shows that the lower the birthrate, the higher the maximum of GDP per capita. So yes, it might be true that a richer country by GDP per capita will equate to a lower birthrate."
   ]
  },
  {
   "cell_type": "markdown",
   "id": "7c358d14",
   "metadata": {},
   "source": [
    "### Does GDP per capita increase as the service, industry, or agriculture index gets higher?"
   ]
  },
  {
   "cell_type": "markdown",
   "id": "18e11f02",
   "metadata": {},
   "source": [
    "First, I'll plot the service against GDP per capita."
   ]
  },
  {
   "cell_type": "code",
   "execution_count": 6,
   "id": "1b40179b",
   "metadata": {},
   "outputs": [
    {
     "data": {
      "text/html": [
       "<div>\n",
       "<style scoped>\n",
       "    .dataframe tbody tr th:only-of-type {\n",
       "        vertical-align: middle;\n",
       "    }\n",
       "\n",
       "    .dataframe tbody tr th {\n",
       "        vertical-align: top;\n",
       "    }\n",
       "\n",
       "    .dataframe thead th {\n",
       "        text-align: right;\n",
       "    }\n",
       "</style>\n",
       "<table border=\"1\" class=\"dataframe\">\n",
       "  <thead>\n",
       "    <tr style=\"text-align: right;\">\n",
       "      <th></th>\n",
       "      <th>Country</th>\n",
       "      <th>Service</th>\n",
       "      <th>GDP ($ per capita)</th>\n",
       "    </tr>\n",
       "  </thead>\n",
       "  <tbody>\n",
       "    <tr>\n",
       "      <th>53</th>\n",
       "      <td>Equatorial Guinea</td>\n",
       "      <td>0.062</td>\n",
       "      <td>2700.0</td>\n",
       "    </tr>\n",
       "    <tr>\n",
       "      <th>97</th>\n",
       "      <td>Liberia</td>\n",
       "      <td>0.177</td>\n",
       "      <td>1000.0</td>\n",
       "    </tr>\n",
       "    <tr>\n",
       "      <th>133</th>\n",
       "      <td>Qatar</td>\n",
       "      <td>0.197</td>\n",
       "      <td>21500.0</td>\n",
       "    </tr>\n",
       "    <tr>\n",
       "      <th>145</th>\n",
       "      <td>Sierra Leone</td>\n",
       "      <td>0.210</td>\n",
       "      <td>500.0</td>\n",
       "    </tr>\n",
       "    <tr>\n",
       "      <th>120</th>\n",
       "      <td>Nigeria</td>\n",
       "      <td>0.244</td>\n",
       "      <td>900.0</td>\n",
       "    </tr>\n",
       "    <tr>\n",
       "      <th>...</th>\n",
       "      <td>...</td>\n",
       "      <td>...</td>\n",
       "      <td>...</td>\n",
       "    </tr>\n",
       "    <tr>\n",
       "      <th>11</th>\n",
       "      <td>Bahamas, The</td>\n",
       "      <td>0.900</td>\n",
       "      <td>16700.0</td>\n",
       "    </tr>\n",
       "    <tr>\n",
       "      <th>76</th>\n",
       "      <td>Hong Kong</td>\n",
       "      <td>0.906</td>\n",
       "      <td>28800.0</td>\n",
       "    </tr>\n",
       "    <tr>\n",
       "      <th>24</th>\n",
       "      <td>British Virgin Is.</td>\n",
       "      <td>0.920</td>\n",
       "      <td>16000.0</td>\n",
       "    </tr>\n",
       "    <tr>\n",
       "      <th>99</th>\n",
       "      <td>Macau</td>\n",
       "      <td>0.927</td>\n",
       "      <td>19400.0</td>\n",
       "    </tr>\n",
       "    <tr>\n",
       "      <th>33</th>\n",
       "      <td>Cayman Islands</td>\n",
       "      <td>0.954</td>\n",
       "      <td>35000.0</td>\n",
       "    </tr>\n",
       "  </tbody>\n",
       "</table>\n",
       "<p>179 rows × 3 columns</p>\n",
       "</div>"
      ],
      "text/plain": [
       "                 Country  Service  GDP ($ per capita)\n",
       "53    Equatorial Guinea     0.062              2700.0\n",
       "97              Liberia     0.177              1000.0\n",
       "133               Qatar     0.197             21500.0\n",
       "145        Sierra Leone     0.210               500.0\n",
       "120             Nigeria     0.244               900.0\n",
       "..                   ...      ...                 ...\n",
       "11         Bahamas, The     0.900             16700.0\n",
       "76            Hong Kong     0.906             28800.0\n",
       "24   British Virgin Is.     0.920             16000.0\n",
       "99                Macau     0.927             19400.0\n",
       "33       Cayman Islands     0.954             35000.0\n",
       "\n",
       "[179 rows x 3 columns]"
      ]
     },
     "execution_count": 6,
     "metadata": {},
     "output_type": "execute_result"
    }
   ],
   "source": [
    "SERVICEgdp = dataset.loc[:, ['Country', 'Service', 'GDP ($ per capita)']]\n",
    "SERVICEgdp['Service'] = SERVICEgdp['Service'].str.replace(',','.').astype(float)\n",
    "SERVICEgdp.sort_values(by='Service')"
   ]
  },
  {
   "cell_type": "code",
   "execution_count": 7,
   "id": "a23722ea",
   "metadata": {},
   "outputs": [
    {
     "data": {
      "image/png": "[encoded data removed]",
      "text/plain": [
       "<Figure size 360x360 with 1 Axes>"
      ]
     },
     "metadata": {
      "needs_background": "light"
     },
     "output_type": "display_data"
    }
   ],
   "source": [
    "SERVICEgdpPlot = sns.relplot(data=SERVICEgdp, x=SERVICEgdp['Service'], y=SERVICEgdp['GDP ($ per capita)'])"
   ]
  },
  {
   "cell_type": "markdown",
   "id": "db04de0c",
   "metadata": {},
   "source": [
    "According to the plot, service doesn't equate to GDP per capita. So no, GDP per capita doesn't get higher as the service index increases.\n",
    "\n",
    "Now I'll do the same for Industry."
   ]
  },
  {
   "cell_type": "code",
   "execution_count": 8,
   "id": "b52ac573",
   "metadata": {},
   "outputs": [
    {
     "data": {
      "text/html": [
       "<div>\n",
       "<style scoped>\n",
       "    .dataframe tbody tr th:only-of-type {\n",
       "        vertical-align: middle;\n",
       "    }\n",
       "\n",
       "    .dataframe tbody tr th {\n",
       "        vertical-align: top;\n",
       "    }\n",
       "\n",
       "    .dataframe thead th {\n",
       "        text-align: right;\n",
       "    }\n",
       "</style>\n",
       "<table border=\"1\" class=\"dataframe\">\n",
       "  <thead>\n",
       "    <tr style=\"text-align: right;\">\n",
       "      <th></th>\n",
       "      <th>Country</th>\n",
       "      <th>Industry</th>\n",
       "      <th>GDP ($ per capita)</th>\n",
       "    </tr>\n",
       "  </thead>\n",
       "  <tbody>\n",
       "    <tr>\n",
       "      <th>33</th>\n",
       "      <td>Cayman Islands</td>\n",
       "      <td>0.032</td>\n",
       "      <td>35000.0</td>\n",
       "    </tr>\n",
       "    <tr>\n",
       "      <th>39</th>\n",
       "      <td>Comoros</td>\n",
       "      <td>0.040</td>\n",
       "      <td>700.0</td>\n",
       "    </tr>\n",
       "    <tr>\n",
       "      <th>97</th>\n",
       "      <td>Liberia</td>\n",
       "      <td>0.054</td>\n",
       "      <td>1000.0</td>\n",
       "    </tr>\n",
       "    <tr>\n",
       "      <th>24</th>\n",
       "      <td>British Virgin Is.</td>\n",
       "      <td>0.062</td>\n",
       "      <td>16000.0</td>\n",
       "    </tr>\n",
       "    <tr>\n",
       "      <th>11</th>\n",
       "      <td>Bahamas, The</td>\n",
       "      <td>0.070</td>\n",
       "      <td>16700.0</td>\n",
       "    </tr>\n",
       "    <tr>\n",
       "      <th>...</th>\n",
       "      <td>...</td>\n",
       "      <td>...</td>\n",
       "      <td>...</td>\n",
       "    </tr>\n",
       "    <tr>\n",
       "      <th>2</th>\n",
       "      <td>Algeria</td>\n",
       "      <td>0.600</td>\n",
       "      <td>6000.0</td>\n",
       "    </tr>\n",
       "    <tr>\n",
       "      <th>142</th>\n",
       "      <td>Saudi Arabia</td>\n",
       "      <td>0.613</td>\n",
       "      <td>11800.0</td>\n",
       "    </tr>\n",
       "    <tr>\n",
       "      <th>82</th>\n",
       "      <td>Iraq</td>\n",
       "      <td>0.666</td>\n",
       "      <td>1500.0</td>\n",
       "    </tr>\n",
       "    <tr>\n",
       "      <th>133</th>\n",
       "      <td>Qatar</td>\n",
       "      <td>0.801</td>\n",
       "      <td>21500.0</td>\n",
       "    </tr>\n",
       "    <tr>\n",
       "      <th>53</th>\n",
       "      <td>Equatorial Guinea</td>\n",
       "      <td>0.906</td>\n",
       "      <td>2700.0</td>\n",
       "    </tr>\n",
       "  </tbody>\n",
       "</table>\n",
       "<p>179 rows × 3 columns</p>\n",
       "</div>"
      ],
      "text/plain": [
       "                 Country  Industry  GDP ($ per capita)\n",
       "33       Cayman Islands      0.032             35000.0\n",
       "39              Comoros      0.040               700.0\n",
       "97              Liberia      0.054              1000.0\n",
       "24   British Virgin Is.      0.062             16000.0\n",
       "11         Bahamas, The      0.070             16700.0\n",
       "..                   ...       ...                 ...\n",
       "2               Algeria      0.600              6000.0\n",
       "142        Saudi Arabia      0.613             11800.0\n",
       "82                 Iraq      0.666              1500.0\n",
       "133               Qatar      0.801             21500.0\n",
       "53    Equatorial Guinea      0.906              2700.0\n",
       "\n",
       "[179 rows x 3 columns]"
      ]
     },
     "execution_count": 8,
     "metadata": {},
     "output_type": "execute_result"
    }
   ],
   "source": [
    "INDUSTRYgdp = dataset.loc[:, ['Country', 'Industry', 'GDP ($ per capita)']]\n",
    "INDUSTRYgdp['Industry']  = INDUSTRYgdp['Industry'].str.replace(',','.').astype(float)\n",
    "INDUSTRYgdp.sort_values(by='Industry')"
   ]
  },
  {
   "cell_type": "code",
   "execution_count": 9,
   "id": "eb49ca3b",
   "metadata": {},
   "outputs": [
    {
     "data": {
      "image/png": "[encoded data removed]",
      "text/plain": [
       "<Figure size 360x360 with 1 Axes>"
      ]
     },
     "metadata": {
      "needs_background": "light"
     },
     "output_type": "display_data"
    }
   ],
   "source": [
    "INDUSTRYgdpPlot = sns.relplot(data=INDUSTRYgdp, x=INDUSTRYgdp['Industry'], y=INDUSTRYgdp['GDP ($ per capita)'])"
   ]
  },
  {
   "cell_type": "markdown",
   "id": "f211b02f",
   "metadata": {},
   "source": [
    "It seems that Industry doesn't affect GDP per capita either. So it is not true that as Industry index gets hither, GDP per capita will increase with it.\n",
    "\n",
    "Finally, I'll also plot the Agriculture vs GDP per capita."
   ]
  },
  {
   "cell_type": "code",
   "execution_count": 10,
   "id": "bdd5207c",
   "metadata": {},
   "outputs": [
    {
     "data": {
      "text/html": [
       "<div>\n",
       "<style scoped>\n",
       "    .dataframe tbody tr th:only-of-type {\n",
       "        vertical-align: middle;\n",
       "    }\n",
       "\n",
       "    .dataframe tbody tr th {\n",
       "        vertical-align: top;\n",
       "    }\n",
       "\n",
       "    .dataframe thead th {\n",
       "        text-align: right;\n",
       "    }\n",
       "</style>\n",
       "<table border=\"1\" class=\"dataframe\">\n",
       "  <thead>\n",
       "    <tr style=\"text-align: right;\">\n",
       "      <th></th>\n",
       "      <th>Country</th>\n",
       "      <th>Agriculture</th>\n",
       "      <th>GDP ($ per capita)</th>\n",
       "    </tr>\n",
       "  </thead>\n",
       "  <tbody>\n",
       "    <tr>\n",
       "      <th>146</th>\n",
       "      <td>Singapore</td>\n",
       "      <td>0.000</td>\n",
       "      <td>23700.0</td>\n",
       "    </tr>\n",
       "    <tr>\n",
       "      <th>99</th>\n",
       "      <td>Macau</td>\n",
       "      <td>0.001</td>\n",
       "      <td>19400.0</td>\n",
       "    </tr>\n",
       "    <tr>\n",
       "      <th>76</th>\n",
       "      <td>Hong Kong</td>\n",
       "      <td>0.001</td>\n",
       "      <td>28800.0</td>\n",
       "    </tr>\n",
       "    <tr>\n",
       "      <th>133</th>\n",
       "      <td>Qatar</td>\n",
       "      <td>0.002</td>\n",
       "      <td>21500.0</td>\n",
       "    </tr>\n",
       "    <tr>\n",
       "      <th>92</th>\n",
       "      <td>Kuwait</td>\n",
       "      <td>0.004</td>\n",
       "      <td>19000.0</td>\n",
       "    </tr>\n",
       "    <tr>\n",
       "      <th>...</th>\n",
       "      <td>...</td>\n",
       "      <td>...</td>\n",
       "      <td>...</td>\n",
       "    </tr>\n",
       "    <tr>\n",
       "      <th>34</th>\n",
       "      <td>Central African Rep.</td>\n",
       "      <td>0.550</td>\n",
       "      <td>1100.0</td>\n",
       "    </tr>\n",
       "    <tr>\n",
       "      <th>28</th>\n",
       "      <td>Burma</td>\n",
       "      <td>0.564</td>\n",
       "      <td>1800.0</td>\n",
       "    </tr>\n",
       "    <tr>\n",
       "      <th>72</th>\n",
       "      <td>Guinea-Bissau</td>\n",
       "      <td>0.620</td>\n",
       "      <td>800.0</td>\n",
       "    </tr>\n",
       "    <tr>\n",
       "      <th>147</th>\n",
       "      <td>Somalia</td>\n",
       "      <td>0.650</td>\n",
       "      <td>500.0</td>\n",
       "    </tr>\n",
       "    <tr>\n",
       "      <th>97</th>\n",
       "      <td>Liberia</td>\n",
       "      <td>0.769</td>\n",
       "      <td>1000.0</td>\n",
       "    </tr>\n",
       "  </tbody>\n",
       "</table>\n",
       "<p>179 rows × 3 columns</p>\n",
       "</div>"
      ],
      "text/plain": [
       "                   Country  Agriculture  GDP ($ per capita)\n",
       "146             Singapore         0.000             23700.0\n",
       "99                  Macau         0.001             19400.0\n",
       "76              Hong Kong         0.001             28800.0\n",
       "133                 Qatar         0.002             21500.0\n",
       "92                 Kuwait         0.004             19000.0\n",
       "..                     ...          ...                 ...\n",
       "34   Central African Rep.         0.550              1100.0\n",
       "28                  Burma         0.564              1800.0\n",
       "72          Guinea-Bissau         0.620               800.0\n",
       "147               Somalia         0.650               500.0\n",
       "97                Liberia         0.769              1000.0\n",
       "\n",
       "[179 rows x 3 columns]"
      ]
     },
     "execution_count": 10,
     "metadata": {},
     "output_type": "execute_result"
    }
   ],
   "source": [
    "AGROgdp = dataset.loc[:,['Country', 'Agriculture', 'GDP ($ per capita)']]\n",
    "AGROgdp['Agriculture'] = AGROgdp['Agriculture'].str.replace(',','.').astype(float)\n",
    "AGROgdp.sort_values(by='Agriculture')"
   ]
  },
  {
   "cell_type": "code",
   "execution_count": 11,
   "id": "726c1629",
   "metadata": {},
   "outputs": [
    {
     "data": {
      "image/png": "[encoded data removed]",
      "text/plain": [
       "<Figure size 360x360 with 1 Axes>"
      ]
     },
     "metadata": {
      "needs_background": "light"
     },
     "output_type": "display_data"
    }
   ],
   "source": [
    "AGROgdpPlot = sns.relplot(data=AGROgdp, x=AGROgdp['Agriculture'], y=AGROgdp['GDP ($ per capita)'])"
   ]
  },
  {
   "cell_type": "markdown",
   "id": "a201a83f",
   "metadata": {},
   "source": [
    "This plot shows, counterintuitively, that the lower the agriculture index the higher the maximum GDP per capita. So it is not true that as Agriculture goes up, the GDP per capita will go up, but we did discover the opposite. \n",
    "\n",
    "Now let's see which regions have the lower birthrates. \n",
    "\n",
    "I'll group the data from Birthrate and GDP ($ per capita) columns by region.\n",
    "I'll look for their means and compare them."
   ]
  },
  {
   "cell_type": "markdown",
   "id": "dd240749",
   "metadata": {},
   "source": [
    "### Population and GDP by Region"
   ]
  },
  {
   "cell_type": "code",
   "execution_count": 12,
   "id": "8efbc23d",
   "metadata": {},
   "outputs": [
    {
     "name": "stderr",
     "output_type": "stream",
     "text": [
      "C:\\Users\\Johnny Liang\\AppData\\Local\\Temp\\ipykernel_13924\\2835453731.py:1: SettingWithCopyWarning: \n",
      "A value is trying to be set on a copy of a slice from a DataFrame.\n",
      "Try using .loc[row_indexer,col_indexer] = value instead\n",
      "\n",
      "See the caveats in the documentation: https://pandas.pydata.org/pandas-docs/stable/user_guide/indexing.html#returning-a-view-versus-a-copy\n",
      "  dataset['Birthrate'] = dataset['Birthrate'].str.replace(',','.').astype(float)\n"
     ]
    }
   ],
   "source": [
    "dataset['Birthrate'] = dataset['Birthrate'].str.replace(',','.').astype(float)"
   ]
  },
  {
   "cell_type": "code",
   "execution_count": 13,
   "id": "fb2338b8",
   "metadata": {},
   "outputs": [],
   "source": [
    "RegionGroup = dataset[['Birthrate','GDP ($ per capita)']].groupby(dataset['Region'])\n",
    "RegionGroupmean = RegionGroup.mean()"
   ]
  },
  {
   "cell_type": "code",
   "execution_count": 14,
   "id": "5e73591e",
   "metadata": {},
   "outputs": [
    {
     "data": {
      "image/png": "[encoded data removed]",
      "text/plain": [
       "<Figure size 561x360 with 1 Axes>"
      ]
     },
     "metadata": {
      "needs_background": "light"
     },
     "output_type": "display_data"
    }
   ],
   "source": [
    "RegGPlot = sns.relplot(data=RegionGroupmean, x=RegionGroupmean['GDP ($ per capita)'], y=RegionGroupmean['Birthrate'], hue=\"Region\")"
   ]
  },
  {
   "cell_type": "code",
   "execution_count": 15,
   "id": "48163606",
   "metadata": {},
   "outputs": [
    {
     "data": {
      "image/png": "[encoded data removed]",
      "text/plain": [
       "<Figure size 432x288 with 1 Axes>"
      ]
     },
     "metadata": {
      "needs_background": "light"
     },
     "output_type": "display_data"
    }
   ],
   "source": [
    "RegGPlot2 = sns.lineplot(data=RegionGroupmean, x=RegionGroupmean['GDP ($ per capita)'], y=RegionGroupmean['Birthrate'])"
   ]
  },
  {
   "cell_type": "markdown",
   "id": "bfefcc93",
   "metadata": {},
   "source": [
    "We once again see the pattern of 'Richer countries by GDP = Less Birthrate' though we can see some exceptions with Eastern Europe and the Baltics."
   ]
  },
  {
   "cell_type": "markdown",
   "id": "8a3cf285",
   "metadata": {},
   "source": [
    "# References\n",
    "The Dataset was gathered from : https://www.kaggle.com/datasets/fernandol/countries-of-the-world. <br/>\n",
    "Packages from [Numpy](https://numpy.org/) and [Pandas](https://pandas.pydata.org/)."
   ]
  },
  {
   "cell_type": "code",
   "execution_count": null,
   "id": "5a8f02e3",
   "metadata": {},
   "outputs": [],
   "source": []
  }
 ],
 "metadata": {
  "kernelspec": {
   "display_name": "Python 3 (ipykernel)",
   "language": "python",
   "name": "python3"
  },
  "language_info": {
   "codemirror_mode": {
    "name": "ipython",
    "version": 3
   },
   "file_extension": ".py",
   "mimetype": "text/x-python",
   "name": "python",
   "nbconvert_exporter": "python",
   "pygments_lexer": "ipython3",
   "version": "3.9.12"
  }
 },
 "nbformat": 4,
 "nbformat_minor": 5
}
